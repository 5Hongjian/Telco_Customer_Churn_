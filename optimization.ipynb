{
 "cells": [
  {
   "cell_type": "code",
   "execution_count": 24,
   "id": "4675f6ed",
   "metadata": {},
   "outputs": [],
   "source": [
    "import numpy as np\n",
    "import pandas as pd\n",
    "\n",
    "import seaborn as sns\n",
    "import matplotlib.pyplot as plt\n",
    "\n",
    "import time\n",
    "\n",
    "import warnings\n",
    "warnings.filterwarnings('ignore')\n",
    "\n",
    "# sklearn\n",
    "\n",
    "from sklearn import preprocessing\n",
    "from sklearn.compose import ColumnTransformer\n",
    "from sklearn.preprocessing import OrdinalEncoder\n",
    "from sklearn.preprocessing import OneHotEncoder\n",
    "\n",
    "from sklearn.metrics import accuracy_score, recall_score, precision_score, f1_score, roc_auc_score\n",
    "from sklearn.model_selection import train_test_split\n",
    "\n",
    "from sklearn.pipeline import make_pipeline\n",
    "from sklearn.linear_model import LogisticRegression\n",
    "from sklearn import tree\n",
    "from sklearn.tree import DecisionTreeClassifier\n",
    "from sklearn.ensemble import RandomForestClassifier\n",
    "\n",
    "from sklearn.model_selection import GridSearchCV\n",
    "\n",
    "from sklearn.base import BaseEstimator, TransformerMixin\n",
    "\n",
    "from telcoFunc import *\n",
    "\n",
    "import features_creation as fc\n",
    "from features_creation import *\n",
    "\n",
    "import inspect, re\n",
    "\n",
    "\n",
    "from tqdm import tqdm\n",
    "import gc"
   ]
  },
  {
   "cell_type": "code",
   "execution_count": 25,
   "id": "106cba8b",
   "metadata": {},
   "outputs": [],
   "source": [
    "\n",
    "tcc = pd.read_csv('WA_Fn-UseC_-Telco-Customer-Churn.csv')\n",
    "\n",
    "category_cols = ['gender', 'SeniorCitizen', 'Partner', 'Dependents',\n",
    "                'PhoneService', 'MultipleLines', 'InternetService', 'OnlineSecurity', 'OnlineBackup', \n",
    "                'DeviceProtection', 'TechSupport', 'StreamingTV', 'StreamingMovies', 'Contract', 'PaperlessBilling',\n",
    "                'PaymentMethod']\n",
    "\n",
    "numeric_cols = ['tenure', 'MonthlyCharges', 'TotalCharges']\n",
    "\n",
    "target = 'Churn'\n",
    "\n",
    "ID_col = 'customerID'\n",
    "\n",
    "assert len(category_cols) + len(numeric_cols) + 2 == tcc.shape[1]\n",
    "\n",
    "tcc['TotalCharges']= tcc['TotalCharges'].apply(lambda x: x if x!= ' ' else np.nan).astype(float)\n",
    "tcc['MonthlyCharges'] = tcc['MonthlyCharges'].astype(float)\n",
    "\n",
    "tcc['TotalCharges'] = tcc['TotalCharges'].fillna(0)\n",
    "\n",
    "tcc['Churn'].replace(to_replace='Yes', value=1, inplace=True)\n",
    "tcc['Churn'].replace(to_replace='No',  value=0, inplace=True)"
   ]
  },
  {
   "cell_type": "code",
   "execution_count": 27,
   "id": "8ef3e071",
   "metadata": {},
   "outputs": [],
   "source": [
    "train = pd.read_csv('train_new1.csv')\n",
    "test = pd.read_csv('test_new1.csv')"
   ]
  },
  {
   "cell_type": "code",
   "execution_count": 28,
   "id": "dc1406ff",
   "metadata": {},
   "outputs": [
    {
     "data": {
      "text/plain": [
       "(5282, 27)"
      ]
     },
     "execution_count": 28,
     "metadata": {},
     "output_type": "execute_result"
    }
   ],
   "source": [
    "train.shape"
   ]
  },
  {
   "cell_type": "code",
   "execution_count": 31,
   "id": "f5795822",
   "metadata": {},
   "outputs": [],
   "source": [
    "X_train = train.iloc[:,:-1]\n",
    "X_test = test.iloc[:,:-1]\n",
    "y_train = train.iloc[:,-1]\n",
    "y_test = test.iloc[:,-1]"
   ]
  },
  {
   "cell_type": "code",
   "execution_count": null,
   "id": "4a6c52f5",
   "metadata": {},
   "outputs": [],
   "source": [
    "parameter_space = {\n",
    "    \"min_samples_leaf\": range(1, 10, 3), \n",
    "    \"min_samples_split\": range(1, 10, 3),\n",
    "    \"max_depth\": range(5, 16, 5),\n",
    "    \"max_leaf_nodes\": [None] + list(range(20, 70, 20)), \n",
    "    \"n_estimators\": range(10, 160, 70), \n",
    "    \"max_features\":['sqrt', 'log2'] + list(range(3, 9)), \n",
    "    \"max_samples\":[None, 0.4, 0.5, 0.6]}\n",
    "\n",
    "RF_0 = RandomForestClassifier(random_state=12)\n",
    "grid_RF_0 = GridSearchCV(RF_0, parameter_space, n_jobs=-1)\n",
    "\n",
    "grid_RF_0.fit(X_train, y_train)"
   ]
  },
  {
   "cell_type": "code",
   "execution_count": 34,
   "id": "19d4a62b",
   "metadata": {},
   "outputs": [
    {
     "data": {
      "text/plain": [
       "0.8091627605286547"
      ]
     },
     "execution_count": 34,
     "metadata": {},
     "output_type": "execute_result"
    }
   ],
   "source": [
    "grid_RF_0.best_score_"
   ]
  },
  {
   "cell_type": "code",
   "execution_count": 35,
   "id": "15da8e5d",
   "metadata": {},
   "outputs": [
    {
     "data": {
      "text/plain": [
       "(0.8277167739492617, 0.7950028392958546)"
      ]
     },
     "execution_count": 35,
     "metadata": {},
     "output_type": "execute_result"
    }
   ],
   "source": [
    "grid_RF_0.score(X_train, y_train), grid_RF_0.score(X_test, y_test)"
   ]
  },
  {
   "cell_type": "code",
   "execution_count": 36,
   "id": "ab86b39d",
   "metadata": {
    "scrolled": true
   },
   "outputs": [
    {
     "data": {
      "text/plain": [
       "{'max_depth': 10,\n",
       " 'max_features': 'log2',\n",
       " 'max_leaf_nodes': 60,\n",
       " 'max_samples': 0.5,\n",
       " 'min_samples_leaf': 7,\n",
       " 'min_samples_split': 4,\n",
       " 'n_estimators': 10}"
      ]
     },
     "execution_count": 36,
     "metadata": {},
     "output_type": "execute_result"
    }
   ],
   "source": [
    "grid_RF_0.best_params_"
   ]
  },
  {
   "cell_type": "code",
   "execution_count": null,
   "id": "0d0079db",
   "metadata": {},
   "outputs": [],
   "source": [
    "parameter_space = {\n",
    "    \"min_samples_leaf\": range(6, 9), \n",
    "    \"min_samples_split\": range(3, 6),\n",
    "    \"max_depth\": range(9, 12),\n",
    "    \"max_leaf_nodes\": [None] + list(range(58, 63, 2)), \n",
    "    \"n_estimators\": range(8, 13, 2), \n",
    "    \"max_features\":['sqrt', 'log2'] + list(range(4, 7)), \n",
    "    \"max_samples\":[None, 0.48, 0.5, 0.52]}\n",
    "\n",
    "RF_0 = RandomForestClassifier(random_state=12)\n",
    "grid_RF_0 = GridSearchCV(RF_0, parameter_space, n_jobs=-1)\n",
    "\n",
    "grid_RF_0.fit(X_train, y_train)"
   ]
  },
  {
   "cell_type": "code",
   "execution_count": 38,
   "id": "e6811a11",
   "metadata": {},
   "outputs": [
    {
     "data": {
      "text/plain": [
       "0.8091627605286547"
      ]
     },
     "execution_count": 38,
     "metadata": {},
     "output_type": "execute_result"
    }
   ],
   "source": [
    "grid_RF_0.best_score_"
   ]
  },
  {
   "cell_type": "code",
   "execution_count": 39,
   "id": "a24eb893",
   "metadata": {},
   "outputs": [
    {
     "data": {
      "text/plain": [
       "(0.8277167739492617, 0.7950028392958546)"
      ]
     },
     "execution_count": 39,
     "metadata": {},
     "output_type": "execute_result"
    }
   ],
   "source": [
    "grid_RF_0.score(X_train, y_train), grid_RF_0.score(X_test, y_test)"
   ]
  },
  {
   "cell_type": "code",
   "execution_count": 40,
   "id": "6cd20dea",
   "metadata": {},
   "outputs": [
    {
     "data": {
      "text/plain": [
       "{'max_depth': 10,\n",
       " 'max_features': 'log2',\n",
       " 'max_leaf_nodes': 60,\n",
       " 'max_samples': 0.5,\n",
       " 'min_samples_leaf': 7,\n",
       " 'min_samples_split': 3,\n",
       " 'n_estimators': 10}"
      ]
     },
     "execution_count": 40,
     "metadata": {},
     "output_type": "execute_result"
    }
   ],
   "source": [
    "grid_RF_0.best_params_"
   ]
  },
  {
   "cell_type": "code",
   "execution_count": null,
   "id": "1579a03f",
   "metadata": {},
   "outputs": [],
   "source": [
    "parameter_space = {\n",
    "    \"min_samples_leaf\": range(6, 9), \n",
    "    \"min_samples_split\": range(2, 5),\n",
    "    \"max_depth\": range(9, 12),\n",
    "    \"max_leaf_nodes\": [None] + list(range(58, 62)), \n",
    "    \"n_estimators\": range(9, 12), \n",
    "    \"max_features\":['sqrt', 'log2'] + list(range(4, 7)), \n",
    "    \"max_samples\":[0.49, 0.5, 0.51]}\n",
    "\n",
    "RF_0 = RandomForestClassifier(random_state=12)\n",
    "grid_RF_0 = GridSearchCV(RF_0, parameter_space, n_jobs=-1)\n",
    "\n",
    "grid_RF_0.fit(X_train, y_train)"
   ]
  },
  {
   "cell_type": "code",
   "execution_count": 42,
   "id": "cfe9338d",
   "metadata": {},
   "outputs": [
    {
     "data": {
      "text/plain": [
       "0.8091627605286547"
      ]
     },
     "execution_count": 42,
     "metadata": {},
     "output_type": "execute_result"
    }
   ],
   "source": [
    "grid_RF_0.best_score_"
   ]
  },
  {
   "cell_type": "code",
   "execution_count": 43,
   "id": "d7a2a959",
   "metadata": {},
   "outputs": [
    {
     "data": {
      "text/plain": [
       "(0.8277167739492617, 0.7950028392958546)"
      ]
     },
     "execution_count": 43,
     "metadata": {},
     "output_type": "execute_result"
    }
   ],
   "source": [
    "grid_RF_0.score(X_train, y_train), grid_RF_0.score(X_test, y_test)"
   ]
  },
  {
   "cell_type": "code",
   "execution_count": 44,
   "id": "b31dc63d",
   "metadata": {},
   "outputs": [
    {
     "data": {
      "text/plain": [
       "{'max_depth': 10,\n",
       " 'max_features': 'log2',\n",
       " 'max_leaf_nodes': 60,\n",
       " 'max_samples': 0.5,\n",
       " 'min_samples_leaf': 7,\n",
       " 'min_samples_split': 2,\n",
       " 'n_estimators': 10}"
      ]
     },
     "execution_count": 44,
     "metadata": {},
     "output_type": "execute_result"
    }
   ],
   "source": [
    "grid_RF_0.best_params_"
   ]
  },
  {
   "cell_type": "markdown",
   "id": "6472c537",
   "metadata": {},
   "source": [
    "|Models|CV.best_score_|train_score|test_score|\n",
    "|:--:|:--:|:--:|:--:|\n",
    "|Logistic+grid|0.8045|0.8075|0.7956|\n",
    "|RF+grid_R1|0.8092|0.8277|0.7950|\n",
    "|RF+grid_R2|0.8092|0.8277|0.7950|\n",
    "|RF+grid_R3|0.8092|0.8277|0.7950|"
   ]
  },
  {
   "cell_type": "code",
   "execution_count": null,
   "id": "6c668886",
   "metadata": {},
   "outputs": [],
   "source": []
  }
 ],
 "metadata": {
  "kernelspec": {
   "display_name": "Python 3 (ipykernel)",
   "language": "python",
   "name": "python3"
  },
  "language_info": {
   "codemirror_mode": {
    "name": "ipython",
    "version": 3
   },
   "file_extension": ".py",
   "mimetype": "text/x-python",
   "name": "python",
   "nbconvert_exporter": "python",
   "pygments_lexer": "ipython3",
   "version": "3.11.3"
  }
 },
 "nbformat": 4,
 "nbformat_minor": 5
}
