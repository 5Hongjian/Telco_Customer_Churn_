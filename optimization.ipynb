{
 "cells": [
  {
   "cell_type": "code",
   "execution_count": 1,
   "id": "4675f6ed",
   "metadata": {},
   "outputs": [],
   "source": [
    "import numpy as np\n",
    "import pandas as pd\n",
    "\n",
    "import seaborn as sns\n",
    "import matplotlib.pyplot as plt\n",
    "\n",
    "import time\n",
    "\n",
    "import warnings\n",
    "warnings.filterwarnings('ignore')\n",
    "\n",
    "# sklearn\n",
    "\n",
    "from sklearn import preprocessing\n",
    "from sklearn.compose import ColumnTransformer\n",
    "from sklearn.preprocessing import OrdinalEncoder\n",
    "from sklearn.preprocessing import OneHotEncoder\n",
    "\n",
    "from sklearn.metrics import accuracy_score, recall_score, precision_score, f1_score, roc_auc_score\n",
    "from sklearn.model_selection import train_test_split\n",
    "\n",
    "from sklearn.pipeline import make_pipeline\n",
    "from sklearn.linear_model import LogisticRegression\n",
    "from sklearn import tree\n",
    "from sklearn.tree import DecisionTreeClassifier\n",
    "from sklearn.ensemble import RandomForestClassifier\n",
    "\n",
    "from sklearn.model_selection import GridSearchCV\n",
    "\n",
    "from sklearn.base import BaseEstimator, TransformerMixin\n",
    "\n",
    "from telcoFunc import *\n",
    "\n",
    "import features_creation as fc\n",
    "from features_creation import *\n",
    "\n",
    "import inspect, re\n",
    "\n",
    "\n",
    "from tqdm import tqdm\n",
    "import gc"
   ]
  },
  {
   "cell_type": "code",
   "execution_count": 25,
   "id": "106cba8b",
   "metadata": {},
   "outputs": [],
   "source": [
    "\n",
    "tcc = pd.read_csv('WA_Fn-UseC_-Telco-Customer-Churn.csv')\n",
    "\n",
    "category_cols = ['gender', 'SeniorCitizen', 'Partner', 'Dependents',\n",
    "                'PhoneService', 'MultipleLines', 'InternetService', 'OnlineSecurity', 'OnlineBackup', \n",
    "                'DeviceProtection', 'TechSupport', 'StreamingTV', 'StreamingMovies', 'Contract', 'PaperlessBilling',\n",
    "                'PaymentMethod']\n",
    "\n",
    "numeric_cols = ['tenure', 'MonthlyCharges', 'TotalCharges']\n",
    "\n",
    "target = 'Churn'\n",
    "\n",
    "ID_col = 'customerID'\n",
    "\n",
    "assert len(category_cols) + len(numeric_cols) + 2 == tcc.shape[1]\n",
    "\n",
    "tcc['TotalCharges']= tcc['TotalCharges'].apply(lambda x: x if x!= ' ' else np.nan).astype(float)\n",
    "tcc['MonthlyCharges'] = tcc['MonthlyCharges'].astype(float)\n",
    "\n",
    "tcc['TotalCharges'] = tcc['TotalCharges'].fillna(0)\n",
    "\n",
    "tcc['Churn'].replace(to_replace='Yes', value=1, inplace=True)\n",
    "tcc['Churn'].replace(to_replace='No',  value=0, inplace=True)"
   ]
  },
  {
   "cell_type": "code",
   "execution_count": 2,
   "id": "8ef3e071",
   "metadata": {},
   "outputs": [],
   "source": [
    "train = pd.read_csv('train_new1.csv')\n",
    "test = pd.read_csv('test_new1.csv')"
   ]
  },
  {
   "cell_type": "code",
   "execution_count": 3,
   "id": "dc1406ff",
   "metadata": {},
   "outputs": [
    {
     "data": {
      "text/plain": [
       "(5282, 27)"
      ]
     },
     "execution_count": 3,
     "metadata": {},
     "output_type": "execute_result"
    }
   ],
   "source": [
    "train.shape"
   ]
  },
  {
   "cell_type": "code",
   "execution_count": 4,
   "id": "f5795822",
   "metadata": {},
   "outputs": [],
   "source": [
    "X_train = train.iloc[:,:-1]\n",
    "X_test = test.iloc[:,:-1]\n",
    "y_train = train.iloc[:,-1]\n",
    "y_test = test.iloc[:,-1]"
   ]
  },
  {
   "cell_type": "code",
   "execution_count": null,
   "id": "4a6c52f5",
   "metadata": {},
   "outputs": [],
   "source": [
    "parameter_space = {\n",
    "    \"min_samples_leaf\": range(1, 10, 3), \n",
    "    \"min_samples_split\": range(1, 10, 3),\n",
    "    \"max_depth\": range(5, 16, 5),\n",
    "    \"max_leaf_nodes\": [None] + list(range(20, 70, 20)), \n",
    "    \"n_estimators\": range(10, 160, 70), \n",
    "    \"max_features\":['sqrt', 'log2'] + list(range(3, 9)), \n",
    "    \"max_samples\":[None, 0.4, 0.5, 0.6]}\n",
    "\n",
    "RF_0 = RandomForestClassifier(random_state=12)\n",
    "grid_RF_0 = GridSearchCV(RF_0, parameter_space, n_jobs=-1)\n",
    "\n",
    "grid_RF_0.fit(X_train, y_train)"
   ]
  },
  {
   "cell_type": "code",
   "execution_count": 34,
   "id": "19d4a62b",
   "metadata": {},
   "outputs": [
    {
     "data": {
      "text/plain": [
       "0.8091627605286547"
      ]
     },
     "execution_count": 34,
     "metadata": {},
     "output_type": "execute_result"
    }
   ],
   "source": [
    "grid_RF_0.best_score_"
   ]
  },
  {
   "cell_type": "code",
   "execution_count": 35,
   "id": "15da8e5d",
   "metadata": {},
   "outputs": [
    {
     "data": {
      "text/plain": [
       "(0.8277167739492617, 0.7950028392958546)"
      ]
     },
     "execution_count": 35,
     "metadata": {},
     "output_type": "execute_result"
    }
   ],
   "source": [
    "grid_RF_0.score(X_train, y_train), grid_RF_0.score(X_test, y_test)"
   ]
  },
  {
   "cell_type": "code",
   "execution_count": 36,
   "id": "ab86b39d",
   "metadata": {
    "scrolled": true
   },
   "outputs": [
    {
     "data": {
      "text/plain": [
       "{'max_depth': 10,\n",
       " 'max_features': 'log2',\n",
       " 'max_leaf_nodes': 60,\n",
       " 'max_samples': 0.5,\n",
       " 'min_samples_leaf': 7,\n",
       " 'min_samples_split': 4,\n",
       " 'n_estimators': 10}"
      ]
     },
     "execution_count": 36,
     "metadata": {},
     "output_type": "execute_result"
    }
   ],
   "source": [
    "grid_RF_0.best_params_"
   ]
  },
  {
   "cell_type": "code",
   "execution_count": null,
   "id": "0d0079db",
   "metadata": {},
   "outputs": [],
   "source": [
    "parameter_space = {\n",
    "    \"min_samples_leaf\": range(6, 9), \n",
    "    \"min_samples_split\": range(3, 6),\n",
    "    \"max_depth\": range(9, 12),\n",
    "    \"max_leaf_nodes\": [None] + list(range(58, 63, 2)), \n",
    "    \"n_estimators\": range(8, 13, 2), \n",
    "    \"max_features\":['sqrt', 'log2'] + list(range(4, 7)), \n",
    "    \"max_samples\":[None, 0.48, 0.5, 0.52]}\n",
    "\n",
    "RF_0 = RandomForestClassifier(random_state=12)\n",
    "grid_RF_0 = GridSearchCV(RF_0, parameter_space, n_jobs=-1)\n",
    "\n",
    "grid_RF_0.fit(X_train, y_train)"
   ]
  },
  {
   "cell_type": "code",
   "execution_count": 38,
   "id": "e6811a11",
   "metadata": {},
   "outputs": [
    {
     "data": {
      "text/plain": [
       "0.8091627605286547"
      ]
     },
     "execution_count": 38,
     "metadata": {},
     "output_type": "execute_result"
    }
   ],
   "source": [
    "grid_RF_0.best_score_"
   ]
  },
  {
   "cell_type": "code",
   "execution_count": 39,
   "id": "a24eb893",
   "metadata": {},
   "outputs": [
    {
     "data": {
      "text/plain": [
       "(0.8277167739492617, 0.7950028392958546)"
      ]
     },
     "execution_count": 39,
     "metadata": {},
     "output_type": "execute_result"
    }
   ],
   "source": [
    "grid_RF_0.score(X_train, y_train), grid_RF_0.score(X_test, y_test)"
   ]
  },
  {
   "cell_type": "code",
   "execution_count": 40,
   "id": "6cd20dea",
   "metadata": {},
   "outputs": [
    {
     "data": {
      "text/plain": [
       "{'max_depth': 10,\n",
       " 'max_features': 'log2',\n",
       " 'max_leaf_nodes': 60,\n",
       " 'max_samples': 0.5,\n",
       " 'min_samples_leaf': 7,\n",
       " 'min_samples_split': 3,\n",
       " 'n_estimators': 10}"
      ]
     },
     "execution_count": 40,
     "metadata": {},
     "output_type": "execute_result"
    }
   ],
   "source": [
    "grid_RF_0.best_params_"
   ]
  },
  {
   "cell_type": "code",
   "execution_count": null,
   "id": "1579a03f",
   "metadata": {},
   "outputs": [],
   "source": [
    "parameter_space = {\n",
    "    \"min_samples_leaf\": range(6, 9), \n",
    "    \"min_samples_split\": range(2, 5),\n",
    "    \"max_depth\": range(9, 12),\n",
    "    \"max_leaf_nodes\": [None] + list(range(58, 62)), \n",
    "    \"n_estimators\": range(9, 12), \n",
    "    \"max_features\":['sqrt', 'log2'] + list(range(4, 7)), \n",
    "    \"max_samples\":[0.49, 0.5, 0.51]}\n",
    "\n",
    "RF_0 = RandomForestClassifier(random_state=12)\n",
    "grid_RF_0 = GridSearchCV(RF_0, parameter_space, n_jobs=-1)\n",
    "\n",
    "grid_RF_0.fit(X_train, y_train)"
   ]
  },
  {
   "cell_type": "code",
   "execution_count": 42,
   "id": "cfe9338d",
   "metadata": {},
   "outputs": [
    {
     "data": {
      "text/plain": [
       "0.8091627605286547"
      ]
     },
     "execution_count": 42,
     "metadata": {},
     "output_type": "execute_result"
    }
   ],
   "source": [
    "grid_RF_0.best_score_"
   ]
  },
  {
   "cell_type": "code",
   "execution_count": 43,
   "id": "d7a2a959",
   "metadata": {},
   "outputs": [
    {
     "data": {
      "text/plain": [
       "(0.8277167739492617, 0.7950028392958546)"
      ]
     },
     "execution_count": 43,
     "metadata": {},
     "output_type": "execute_result"
    }
   ],
   "source": [
    "grid_RF_0.score(X_train, y_train), grid_RF_0.score(X_test, y_test)"
   ]
  },
  {
   "cell_type": "code",
   "execution_count": 44,
   "id": "b31dc63d",
   "metadata": {},
   "outputs": [
    {
     "data": {
      "text/plain": [
       "{'max_depth': 10,\n",
       " 'max_features': 'log2',\n",
       " 'max_leaf_nodes': 60,\n",
       " 'max_samples': 0.5,\n",
       " 'min_samples_leaf': 7,\n",
       " 'min_samples_split': 2,\n",
       " 'n_estimators': 10}"
      ]
     },
     "execution_count": 44,
     "metadata": {},
     "output_type": "execute_result"
    }
   ],
   "source": [
    "grid_RF_0.best_params_"
   ]
  },
  {
   "cell_type": "code",
   "execution_count": 5,
   "id": "13a7942a",
   "metadata": {},
   "outputs": [],
   "source": [
    "from sklearn.ensemble import GradientBoostingClassifier as GBC"
   ]
  },
  {
   "cell_type": "code",
   "execution_count": 6,
   "id": "9e6821b9",
   "metadata": {},
   "outputs": [],
   "source": [
    "params = {\n",
    "    'n_estimators': range(25,150,25),\n",
    "    'learning_rate': np.arange(0.1,2.1,0.5).tolist(),\n",
    "    'subsample': np.arange(0.1,0.8,0.1).tolist(),\n",
    "    'max_features': ['log2','sqrt','auto']+ list(range(4,7))\n",
    "}"
   ]
  },
  {
   "cell_type": "code",
   "execution_count": null,
   "id": "6c6618c8",
   "metadata": {},
   "outputs": [],
   "source": [
    "gbdt_grid = GridSearchCV(estimator = GBC(random_state = 42),\n",
    "                        param_grid = params,\n",
    "                        cv = 5,\n",
    "                        n_jobs = -1,\n",
    "                        verbose = False)\n",
    "gbdt_grid.fit(X_train,y_train)"
   ]
  },
  {
   "cell_type": "code",
   "execution_count": 9,
   "id": "798d4a74",
   "metadata": {},
   "outputs": [
    {
     "data": {
      "text/plain": [
       "0.8106777328631634"
      ]
     },
     "execution_count": 9,
     "metadata": {},
     "output_type": "execute_result"
    }
   ],
   "source": [
    "gbdt_grid.best_score_"
   ]
  },
  {
   "cell_type": "code",
   "execution_count": 8,
   "id": "ee2c9fcd",
   "metadata": {},
   "outputs": [
    {
     "data": {
      "text/plain": [
       "(0.8197652404392276, 0.7859170925610448)"
      ]
     },
     "execution_count": 8,
     "metadata": {},
     "output_type": "execute_result"
    }
   ],
   "source": [
    "gbdt_grid.score(X_train,y_train), gbdt_grid.score(X_test,y_test)"
   ]
  },
  {
   "cell_type": "code",
   "execution_count": 10,
   "id": "ddf3c75c",
   "metadata": {},
   "outputs": [
    {
     "data": {
      "text/plain": [
       "{'learning_rate': 0.1,\n",
       " 'max_features': 'log2',\n",
       " 'n_estimators': 75,\n",
       " 'subsample': 0.5}"
      ]
     },
     "execution_count": 10,
     "metadata": {},
     "output_type": "execute_result"
    }
   ],
   "source": [
    "gbdt_grid.best_params_"
   ]
  },
  {
   "cell_type": "code",
   "execution_count": 11,
   "id": "59d5059d",
   "metadata": {},
   "outputs": [],
   "source": [
    "params = {\n",
    "    'n_estimators': range(60,90,5),\n",
    "    'learning_rate': np.arange(0.05,0.15,0.01).tolist(),\n",
    "    'subsample': np.arange(0.45,0.56,0.05).tolist(),\n",
    "    'max_features': ['log2','sqrt','auto']+ list(range(4,6))\n",
    "}"
   ]
  },
  {
   "cell_type": "code",
   "execution_count": null,
   "id": "38def8b6",
   "metadata": {},
   "outputs": [],
   "source": [
    "gbdt_grid = GridSearchCV(estimator = GBC(random_state = 42),\n",
    "                        param_grid = params,\n",
    "                        cv = 5,\n",
    "                        n_jobs = -1,\n",
    "                        verbose = False)\n",
    "gbdt_grid.fit(X_train,y_train)"
   ]
  },
  {
   "cell_type": "code",
   "execution_count": 13,
   "id": "2d6d57de",
   "metadata": {},
   "outputs": [
    {
     "data": {
      "text/plain": [
       "0.812381382414495"
      ]
     },
     "execution_count": 13,
     "metadata": {},
     "output_type": "execute_result"
    }
   ],
   "source": [
    "gbdt_grid.best_score_"
   ]
  },
  {
   "cell_type": "code",
   "execution_count": 14,
   "id": "41b951e7",
   "metadata": {},
   "outputs": [
    {
     "data": {
      "text/plain": [
       "(0.8210904960242332, 0.7915956842703009)"
      ]
     },
     "execution_count": 14,
     "metadata": {},
     "output_type": "execute_result"
    }
   ],
   "source": [
    "gbdt_grid.score(X_train,y_train), gbdt_grid.score(X_test,y_test)"
   ]
  },
  {
   "cell_type": "code",
   "execution_count": 15,
   "id": "71ffc67f",
   "metadata": {},
   "outputs": [
    {
     "data": {
      "text/plain": [
       "{'learning_rate': 0.07,\n",
       " 'max_features': 'log2',\n",
       " 'n_estimators': 85,\n",
       " 'subsample': 0.55}"
      ]
     },
     "execution_count": 15,
     "metadata": {},
     "output_type": "execute_result"
    }
   ],
   "source": [
    "gbdt_grid.best_params_"
   ]
  },
  {
   "cell_type": "code",
   "execution_count": 18,
   "id": "ff91b97b",
   "metadata": {},
   "outputs": [],
   "source": [
    "params = {\n",
    "    'n_estimators': range(83,88),\n",
    "    'learning_rate': np.arange(0.061,0.08,0.002).tolist(),\n",
    "    'subsample': np.arange(0.49,0.6,0.02).tolist(),\n",
    "    'max_features': ['log2','sqrt']\n",
    "}"
   ]
  },
  {
   "cell_type": "code",
   "execution_count": null,
   "id": "23b50a11",
   "metadata": {},
   "outputs": [],
   "source": [
    "gbdt_grid = GridSearchCV(estimator = GBC(random_state = 42),\n",
    "                        param_grid = params,\n",
    "                        cv = 5,\n",
    "                        n_jobs = -1,\n",
    "                        verbose = False)\n",
    "gbdt_grid.fit(X_train,y_train)"
   ]
  },
  {
   "cell_type": "code",
   "execution_count": 19,
   "id": "7a3877d1",
   "metadata": {},
   "outputs": [
    {
     "data": {
      "text/plain": [
       "0.8127598119319973"
      ]
     },
     "execution_count": 19,
     "metadata": {},
     "output_type": "execute_result"
    }
   ],
   "source": [
    "gbdt_grid.best_score_"
   ]
  },
  {
   "cell_type": "code",
   "execution_count": 20,
   "id": "c97dd96a",
   "metadata": {},
   "outputs": [
    {
     "data": {
      "text/plain": [
       "(0.8195759182127982, 0.7893242475865985)"
      ]
     },
     "execution_count": 20,
     "metadata": {},
     "output_type": "execute_result"
    }
   ],
   "source": [
    "gbdt_grid.score(X_train,y_train), gbdt_grid.score(X_test,y_test)"
   ]
  },
  {
   "cell_type": "code",
   "execution_count": 21,
   "id": "53bba173",
   "metadata": {},
   "outputs": [
    {
     "data": {
      "text/plain": [
       "{'learning_rate': 0.07100000000000001,\n",
       " 'max_features': 'log2',\n",
       " 'n_estimators': 89,\n",
       " 'subsample': 0.55}"
      ]
     },
     "execution_count": 21,
     "metadata": {},
     "output_type": "execute_result"
    }
   ],
   "source": [
    "gbdt_grid.best_params_"
   ]
  },
  {
   "cell_type": "code",
   "execution_count": 22,
   "id": "accce743",
   "metadata": {},
   "outputs": [],
   "source": [
    "params = {\n",
    "    'n_estimators': range(88,95),\n",
    "    'learning_rate': np.arange(0.069,0.073,0.0005).tolist(),\n",
    "    'subsample': np.arange(0.54,0.56,0.002).tolist(),\n",
    "    'max_features': ['log2']\n",
    "}"
   ]
  },
  {
   "cell_type": "code",
   "execution_count": null,
   "id": "5f4b2cbc",
   "metadata": {},
   "outputs": [],
   "source": [
    "gbdt_grid = GridSearchCV(estimator = GBC(random_state = 42),\n",
    "                        param_grid = params,\n",
    "                        cv = 5,\n",
    "                        n_jobs = -1,\n",
    "                        verbose = False)\n",
    "gbdt_grid.fit(X_train,y_train)"
   ]
  },
  {
   "cell_type": "code",
   "execution_count": 24,
   "id": "495cc7a0",
   "metadata": {},
   "outputs": [
    {
     "data": {
      "text/plain": [
       "0.8133276353888936"
      ]
     },
     "execution_count": 24,
     "metadata": {},
     "output_type": "execute_result"
    }
   ],
   "source": [
    "gbdt_grid.best_score_"
   ]
  },
  {
   "cell_type": "code",
   "execution_count": 25,
   "id": "33b7b9a4",
   "metadata": {},
   "outputs": [
    {
     "data": {
      "text/plain": [
       "(0.821469140477092, 0.7915956842703009)"
      ]
     },
     "execution_count": 25,
     "metadata": {},
     "output_type": "execute_result"
    }
   ],
   "source": [
    "gbdt_grid.score(X_train,y_train), gbdt_grid.score(X_test,y_test)"
   ]
  },
  {
   "cell_type": "code",
   "execution_count": 26,
   "id": "9890fe63",
   "metadata": {},
   "outputs": [
    {
     "data": {
      "text/plain": [
       "{'learning_rate': 0.07050000000000001,\n",
       " 'max_features': 'log2',\n",
       " 'n_estimators': 89,\n",
       " 'subsample': 0.552}"
      ]
     },
     "execution_count": 26,
     "metadata": {},
     "output_type": "execute_result"
    }
   ],
   "source": [
    "gbdt_grid.best_params_"
   ]
  },
  {
   "cell_type": "code",
   "execution_count": 27,
   "id": "985da4f4",
   "metadata": {},
   "outputs": [],
   "source": [
    "params = {\n",
    "    'n_estimators': range(89,90),\n",
    "    'learning_rate': np.arange(0.07,0.071,0.0001).tolist(),\n",
    "    'subsample': np.arange(0.55,0.56,0.001).tolist(),\n",
    "    'max_features': ['log2']\n",
    "}"
   ]
  },
  {
   "cell_type": "code",
   "execution_count": null,
   "id": "f31a870d",
   "metadata": {},
   "outputs": [],
   "source": [
    "gbdt_grid = GridSearchCV(estimator = GBC(random_state = 42),\n",
    "                        param_grid = params,\n",
    "                        cv = 5,\n",
    "                        n_jobs = -1,\n",
    "                        verbose = False)\n",
    "gbdt_grid.fit(X_train,y_train)"
   ]
  },
  {
   "cell_type": "code",
   "execution_count": 29,
   "id": "c6aa3ad5",
   "metadata": {},
   "outputs": [
    {
     "data": {
      "text/plain": [
       "0.8137064232676815"
      ]
     },
     "execution_count": 29,
     "metadata": {},
     "output_type": "execute_result"
    }
   ],
   "source": [
    "gbdt_grid.best_score_"
   ]
  },
  {
   "cell_type": "code",
   "execution_count": 30,
   "id": "2b806beb",
   "metadata": {},
   "outputs": [
    {
     "data": {
      "text/plain": [
       "(0.8218477849299508, 0.7910278250993753)"
      ]
     },
     "execution_count": 30,
     "metadata": {},
     "output_type": "execute_result"
    }
   ],
   "source": [
    "gbdt_grid.score(X_train,y_train), gbdt_grid.score(X_test,y_test)"
   ]
  },
  {
   "cell_type": "code",
   "execution_count": 31,
   "id": "e19530be",
   "metadata": {},
   "outputs": [
    {
     "data": {
      "text/plain": [
       "{'learning_rate': 0.07070000000000003,\n",
       " 'max_features': 'log2',\n",
       " 'n_estimators': 89,\n",
       " 'subsample': 0.552}"
      ]
     },
     "execution_count": 31,
     "metadata": {},
     "output_type": "execute_result"
    }
   ],
   "source": [
    "gbdt_grid.best_params_"
   ]
  },
  {
   "cell_type": "code",
   "execution_count": 32,
   "id": "40f8fc5b",
   "metadata": {},
   "outputs": [],
   "source": [
    "params = {\n",
    "    'n_estimators': range(89,90),\n",
    "    'learning_rate': np.arange(0.07,0.071,0.0001).tolist(),\n",
    "    'subsample': np.arange(0.5515,0.5525,0.0001).tolist(),\n",
    "    'max_features': ['log2']\n",
    "}"
   ]
  },
  {
   "cell_type": "code",
   "execution_count": null,
   "id": "76ceb3d9",
   "metadata": {},
   "outputs": [],
   "source": [
    "gbdt_grid = GridSearchCV(estimator = GBC(random_state = 42),\n",
    "                        param_grid = params,\n",
    "                        cv = 5,\n",
    "                        n_jobs = -1,\n",
    "                        verbose = False)\n",
    "gbdt_grid.fit(X_train,y_train)"
   ]
  },
  {
   "cell_type": "code",
   "execution_count": 34,
   "id": "bf4426c9",
   "metadata": {},
   "outputs": [
    {
     "data": {
      "text/plain": [
       "0.8137064232676815"
      ]
     },
     "execution_count": 34,
     "metadata": {},
     "output_type": "execute_result"
    }
   ],
   "source": [
    "gbdt_grid.best_score_"
   ]
  },
  {
   "cell_type": "code",
   "execution_count": 35,
   "id": "d39d2ab0",
   "metadata": {},
   "outputs": [
    {
     "data": {
      "text/plain": [
       "(0.8218477849299508, 0.7910278250993753)"
      ]
     },
     "execution_count": 35,
     "metadata": {},
     "output_type": "execute_result"
    }
   ],
   "source": [
    "gbdt_grid.score(X_train,y_train), gbdt_grid.score(X_test,y_test)"
   ]
  },
  {
   "cell_type": "code",
   "execution_count": 36,
   "id": "438b3965",
   "metadata": {},
   "outputs": [
    {
     "data": {
      "text/plain": [
       "{'learning_rate': 0.07070000000000003,\n",
       " 'max_features': 'log2',\n",
       " 'n_estimators': 89,\n",
       " 'subsample': 0.5519999999999999}"
      ]
     },
     "execution_count": 36,
     "metadata": {},
     "output_type": "execute_result"
    }
   ],
   "source": [
    "gbdt_grid.best_params_"
   ]
  },
  {
   "cell_type": "code",
   "execution_count": 1,
   "id": "4fcc04ce",
   "metadata": {},
   "outputs": [
    {
     "name": "stdout",
     "output_type": "stream",
     "text": [
      "Collecting xgboost\n",
      "  Downloading xgboost-2.0.3-py3-none-macosx_12_0_arm64.whl (1.9 MB)\n",
      "\u001b[2K     \u001b[90m━━━━━━━━━━━━━━━━━━━━━━━━━━━━━━━━━━━━━━━━\u001b[0m \u001b[32m1.9/1.9 MB\u001b[0m \u001b[31m15.2 MB/s\u001b[0m eta \u001b[36m0:00:00\u001b[0ma \u001b[36m0:00:01\u001b[0m\n",
      "\u001b[?25hRequirement already satisfied: numpy in /Users/hongjianwu/anaconda3/lib/python3.11/site-packages (from xgboost) (1.24.3)\n",
      "Requirement already satisfied: scipy in /Users/hongjianwu/anaconda3/lib/python3.11/site-packages (from xgboost) (1.11.3)\n",
      "Installing collected packages: xgboost\n",
      "Successfully installed xgboost-2.0.3\n"
     ]
    }
   ],
   "source": [
    "!pip install xgboost"
   ]
  },
  {
   "cell_type": "code",
   "execution_count": 5,
   "id": "cbcf2fc5",
   "metadata": {},
   "outputs": [],
   "source": [
    "import xgboost as xgb"
   ]
  },
  {
   "cell_type": "code",
   "execution_count": 6,
   "id": "410a4585",
   "metadata": {},
   "outputs": [],
   "source": [
    "dtrain = xgb.DMatrix(X_train,y_train)\n",
    "dtest = xgb.DMatrix(X_test,y_test)"
   ]
  },
  {
   "cell_type": "code",
   "execution_count": 33,
   "id": "8309fb11",
   "metadata": {},
   "outputs": [
    {
     "data": {
      "image/png": "[encoded data removed]",
      "text/plain": [
       "<Figure size 640x480 with 1 Axes>"
      ]
     },
     "metadata": {},
     "output_type": "display_data"
    }
   ],
   "source": [
    "def overfitcheck(result):\n",
    "    return (result.iloc[-1,2] - result.iloc[-1,0]).min()\n",
    "train = []\n",
    "test = []\n",
    "gamma = np.arange(0,100,1)\n",
    "overfit = []\n",
    "for i in gamma:\n",
    "    params = {\"max_depth\":5,\n",
    "              \"objective\":\"binary:logistic\",\n",
    "              \"eval_metric\":\"logloss\",\n",
    "              \"seed\":1412,\"eta\":0.1,\n",
    "              \"gamma\":float(i)\n",
    "             }\n",
    "    result = xgb.cv(params,dtrain,num_boost_round=100\n",
    "                ,nfold=5 #补充交叉验证中所需的参数，nfold=5表示5折交叉验证\n",
    "                ,seed=1412 #交叉验证的随机数种子，params中的是管理boosting过程的随机数种子\n",
    "               )\n",
    "    overfit.append(overfitcheck(result))\n",
    "    train.append(result.iloc[-1,0])\n",
    "    test.append(result.iloc[-1,2])\n",
    "plt.plot(gamma,overfit);"
   ]
  },
  {
   "cell_type": "code",
   "execution_count": 34,
   "id": "144d34a0",
   "metadata": {},
   "outputs": [
    {
     "data": {
      "image/png": "[encoded data removed]",
      "text/plain": [
       "<Figure size 640x480 with 1 Axes>"
      ]
     },
     "metadata": {},
     "output_type": "display_data"
    }
   ],
   "source": [
    "plt.plot(gamma,train);"
   ]
  },
  {
   "cell_type": "code",
   "execution_count": 35,
   "id": "d716af43",
   "metadata": {},
   "outputs": [
    {
     "data": {
      "image/png": "[encoded data removed]",
      "text/plain": [
       "<Figure size 640x480 with 1 Axes>"
      ]
     },
     "metadata": {},
     "output_type": "display_data"
    }
   ],
   "source": [
    "plt.plot(gamma,test);"
   ]
  },
  {
   "cell_type": "markdown",
   "id": "956c7dc6",
   "metadata": {},
   "source": [
    "gamma :0-40"
   ]
  },
  {
   "cell_type": "code",
   "execution_count": 36,
   "id": "a0cac103",
   "metadata": {},
   "outputs": [],
   "source": [
    "train = []\n",
    "test = []\n",
    "lambda_ = np.arange(0,3,0.1)\n",
    "overfit = []\n",
    "for i in lambda_:\n",
    "    params = {\"max_depth\":5,\n",
    "              \"objective\":\"binary:logistic\",\n",
    "              \"eval_metric\":\"logloss\",\n",
    "              \"seed\":1412,\"eta\":0.1,\n",
    "              \"lambda\":float(i)\n",
    "             }\n",
    "    result = xgb.cv(params,dtrain,num_boost_round=100\n",
    "                ,nfold=5 #补充交叉验证中所需的参数，nfold=5表示5折交叉验证\n",
    "                ,seed=1412 #交叉验证的随机数种子，params中的是管理boosting过程的随机数种子\n",
    "               )\n",
    "    \n",
    "    overfit.append(overfitcheck(result))\n",
    "    train.append(result.iloc[-1,0])\n",
    "    test.append(result.iloc[-1,2])"
   ]
  },
  {
   "cell_type": "code",
   "execution_count": 37,
   "id": "6f9ad6ec",
   "metadata": {},
   "outputs": [
    {
     "data": {
      "image/png": "[encoded data removed]",
      "text/plain": [
       "<Figure size 640x480 with 1 Axes>"
      ]
     },
     "metadata": {},
     "output_type": "display_data"
    }
   ],
   "source": [
    "plt.plot(lambda_,train);"
   ]
  },
  {
   "cell_type": "code",
   "execution_count": 38,
   "id": "1c516288",
   "metadata": {},
   "outputs": [
    {
     "data": {
      "image/png": "[encoded data removed]",
      "text/plain": [
       "<Figure size 640x480 with 1 Axes>"
      ]
     },
     "metadata": {},
     "output_type": "display_data"
    }
   ],
   "source": [
    "plt.plot(lambda_,test,color=\"red\");"
   ]
  },
  {
   "cell_type": "code",
   "execution_count": 39,
   "id": "4aed73c0",
   "metadata": {},
   "outputs": [
    {
     "data": {
      "image/png": "[encoded data removed]",
      "text/plain": [
       "<Figure size 640x480 with 1 Axes>"
      ]
     },
     "metadata": {},
     "output_type": "display_data"
    }
   ],
   "source": [
    "plt.plot(lambda_,overfit,color=\"orange\");"
   ]
  },
  {
   "cell_type": "markdown",
   "id": "3ff09779",
   "metadata": {},
   "source": [
    "lambda:0-3"
   ]
  },
  {
   "cell_type": "code",
   "execution_count": 40,
   "id": "3a7cdebe",
   "metadata": {},
   "outputs": [
    {
     "data": {
      "image/png": "[encoded data removed]",
      "text/plain": [
       "<Figure size 640x480 with 1 Axes>"
      ]
     },
     "metadata": {},
     "output_type": "display_data"
    }
   ],
   "source": [
    "train = []\n",
    "test = []\n",
    "option = np.arange(10,200,10)\n",
    "overfit = []\n",
    "for i in option:\n",
    "    params = {\"max_depth\":5,\n",
    "              \"objective\":\"binary:logistic\",\n",
    "              \"eval_metric\":\"logloss\",\n",
    "              \"seed\":1412,\"eta\":0.1,\n",
    "            \n",
    "             }\n",
    "    result = xgb.cv(params,dtrain,num_boost_round=i\n",
    "                ,nfold=5 #补充交叉验证中所需的参数，nfold=5表示5折交叉验证\n",
    "                ,seed=1412 #交叉验证的随机数种子，params中的是管理boosting过程的随机数种子\n",
    "               )\n",
    "    overfit.append(overfitcheck(result))\n",
    "    train.append(result.iloc[-1,0])\n",
    "    test.append(result.iloc[-1,2])\n",
    "plt.plot(option,test);"
   ]
  },
  {
   "cell_type": "code",
   "execution_count": 41,
   "id": "859fc5f4",
   "metadata": {
    "scrolled": false
   },
   "outputs": [
    {
     "data": {
      "image/png": "[encoded data removed]",
      "text/plain": [
       "<Figure size 640x480 with 1 Axes>"
      ]
     },
     "metadata": {},
     "output_type": "display_data"
    }
   ],
   "source": [
    "plt.plot(option,train);"
   ]
  },
  {
   "cell_type": "code",
   "execution_count": 42,
   "id": "a6cde9f7",
   "metadata": {},
   "outputs": [
    {
     "data": {
      "image/png": "[encoded data removed]",
      "text/plain": [
       "<Figure size 640x480 with 1 Axes>"
      ]
     },
     "metadata": {},
     "output_type": "display_data"
    }
   ],
   "source": [
    "plt.plot(option,overfit);"
   ]
  },
  {
   "cell_type": "markdown",
   "id": "125370e7",
   "metadata": {},
   "source": [
    "num_boost_round: 10-100"
   ]
  },
  {
   "cell_type": "code",
   "execution_count": 47,
   "id": "ac8b3994",
   "metadata": {},
   "outputs": [
    {
     "data": {
      "image/png": "[encoded data removed]",
      "text/plain": [
       "<Figure size 640x480 with 1 Axes>"
      ]
     },
     "metadata": {},
     "output_type": "display_data"
    }
   ],
   "source": [
    "train = []\n",
    "test = []\n",
    "option = np.arange(20,125,1)\n",
    "overfit = []\n",
    "for i in option:\n",
    "    params = {\"max_depth\":5,\"seed\":1412,\"eta\":0.1,\n",
    "              \"objective\":\"binary:logistic\",\n",
    "              \"eval_metric\":\"logloss\",\n",
    "              \"min_child_weight\":i\n",
    "             }\n",
    "    result = xgb.cv(params,dtrain,num_boost_round=50\n",
    "                ,nfold=5 #补充交叉验证中所需的参数，nfold=5表示5折交叉验证\n",
    "                ,seed=1412 #交叉验证的随机数种子，params中的是管理boosting过程的随机数种子\n",
    "               )\n",
    "    overfit.append(overfitcheck(result))\n",
    "    train.append(result.iloc[-1,0])\n",
    "    test.append(result.iloc[-1,2])\n",
    "plt.plot(option,test);"
   ]
  },
  {
   "cell_type": "code",
   "execution_count": 48,
   "id": "6e44ca0c",
   "metadata": {},
   "outputs": [
    {
     "data": {
      "text/plain": [
       "[<matplotlib.lines.Line2D at 0x15df75910>]"
      ]
     },
     "execution_count": 48,
     "metadata": {},
     "output_type": "execute_result"
    },
    {
     "data": {
      "image/png": "[encoded data removed]",
      "text/plain": [
       "<Figure size 640x480 with 1 Axes>"
      ]
     },
     "metadata": {},
     "output_type": "display_data"
    }
   ],
   "source": [
    "plt.plot(option,train)"
   ]
  },
  {
   "cell_type": "code",
   "execution_count": 49,
   "id": "888a4fd5",
   "metadata": {},
   "outputs": [
    {
     "data": {
      "text/plain": [
       "[<matplotlib.lines.Line2D at 0x15de3c090>]"
      ]
     },
     "execution_count": 49,
     "metadata": {},
     "output_type": "execute_result"
    },
    {
     "data": {
      "image/png": "[encoded data removed]",
      "text/plain": [
       "<Figure size 640x480 with 1 Axes>"
      ]
     },
     "metadata": {},
     "output_type": "display_data"
    }
   ],
   "source": [
    "plt.plot(option,overfit)"
   ]
  },
  {
   "cell_type": "markdown",
   "id": "df988772",
   "metadata": {},
   "source": [
    "min_child_weight: 30-150"
   ]
  },
  {
   "cell_type": "code",
   "execution_count": 7,
   "id": "5e264ee7",
   "metadata": {},
   "outputs": [
    {
     "name": "stdout",
     "output_type": "stream",
     "text": [
      "Best parameters: {'eta': 0.1, 'num_boost_round': 20}, Best accuracy: 0.8027255167569737\n"
     ]
    }
   ],
   "source": [
    "etas = np.arange(0.1, 2.1, 0.1).tolist()\n",
    "num_boost_rounds = range(10, 100, 10)\n",
    "\n",
    "\n",
    "best_params = {'eta': 0, 'num_boost_round': 0}\n",
    "best_accuracy = 0\n",
    "\n",
    "\n",
    "for eta in etas:\n",
    "    for num_boost_round in num_boost_rounds:\n",
    "        params = {\n",
    "            'eta': eta, \n",
    "            'objective': 'binary:logistic',  \n",
    "            'eval_metric': 'error'  \n",
    "        }\n",
    "        \n",
    "        cv_results = xgb.cv(\n",
    "            params,\n",
    "            dtrain,\n",
    "            num_boost_round=num_boost_round,\n",
    "            nfold=5,  \n",
    "            metrics={'error'},\n",
    "            seed = 42,\n",
    "            early_stopping_rounds=10  \n",
    "        )\n",
    "        \n",
    "        mean_accuracy = 1 - cv_results['test-error-mean'].min()\n",
    "        if mean_accuracy > best_accuracy:\n",
    "            best_accuracy = mean_accuracy\n",
    "            best_params['eta'] = eta\n",
    "            best_params['num_boost_round'] = num_boost_round\n",
    "\n",
    "print(f\"Best parameters: {best_params}, Best accuracy: {best_accuracy}\")\n"
   ]
  },
  {
   "cell_type": "code",
   "execution_count": 8,
   "id": "ac9d24fb",
   "metadata": {},
   "outputs": [
    {
     "name": "stdout",
     "output_type": "stream",
     "text": [
      "Best parameters: {'eta': 0.12000000000000002, 'num_boost_round': 14}, Best accuracy: 0.8036723072733006\n"
     ]
    }
   ],
   "source": [
    "etas = np.arange(0.05, 0.15, 0.01).tolist()\n",
    "num_boost_rounds = range(10, 30, 2)\n",
    "\n",
    "\n",
    "best_params = {'eta': 0, 'num_boost_round': 0}\n",
    "best_accuracy = 0\n",
    "\n",
    "\n",
    "for eta in etas:\n",
    "    for num_boost_round in num_boost_rounds:\n",
    "        params = {\n",
    "            'eta': eta, \n",
    "            'objective': 'binary:logistic',  \n",
    "            'eval_metric': 'error'  \n",
    "        }\n",
    "        \n",
    "        cv_results = xgb.cv(\n",
    "            params,\n",
    "            dtrain,\n",
    "            num_boost_round=num_boost_round,\n",
    "            nfold=5,  \n",
    "            metrics={'error'},\n",
    "            seed = 42,\n",
    "            early_stopping_rounds=10  \n",
    "        )\n",
    "        \n",
    "        mean_accuracy = 1 - cv_results['test-error-mean'].min()\n",
    "        if mean_accuracy > best_accuracy:\n",
    "            best_accuracy = mean_accuracy\n",
    "            best_params['eta'] = eta\n",
    "            best_params['num_boost_round'] = num_boost_round\n",
    "\n",
    "print(f\"Best parameters: {best_params}, Best accuracy: {best_accuracy}\")"
   ]
  },
  {
   "cell_type": "code",
   "execution_count": 9,
   "id": "fcd3c10c",
   "metadata": {},
   "outputs": [
    {
     "name": "stdout",
     "output_type": "stream",
     "text": [
      "Best parameters: {'eta': 0.12000000000000001, 'num_boost_round': 13}, Best accuracy: 0.8036723072733006\n"
     ]
    }
   ],
   "source": [
    "etas = np.arange(0.11, 0.13, 0.001).tolist()\n",
    "num_boost_rounds = range(13, 16)\n",
    "\n",
    "\n",
    "best_params = {'eta': 0, 'num_boost_round': 0}\n",
    "best_accuracy = 0\n",
    "\n",
    "\n",
    "for eta in etas:\n",
    "    for num_boost_round in num_boost_rounds:\n",
    "        params = {\n",
    "            'eta': eta, \n",
    "            'objective': 'binary:logistic',  \n",
    "            'eval_metric': 'error'  \n",
    "        }\n",
    "        \n",
    "        cv_results = xgb.cv(\n",
    "            params,\n",
    "            dtrain,\n",
    "            num_boost_round=num_boost_round,\n",
    "            nfold=5,  \n",
    "            metrics={'error'},\n",
    "            seed = 42,\n",
    "            early_stopping_rounds=10  \n",
    "        )\n",
    "        \n",
    "        mean_accuracy = 1 - cv_results['test-error-mean'].min()\n",
    "        if mean_accuracy > best_accuracy:\n",
    "            best_accuracy = mean_accuracy\n",
    "            best_params['eta'] = eta\n",
    "            best_params['num_boost_round'] = num_boost_round\n",
    "\n",
    "print(f\"Best parameters: {best_params}, Best accuracy: {best_accuracy}\")"
   ]
  },
  {
   "cell_type": "code",
   "execution_count": 10,
   "id": "df193b94",
   "metadata": {},
   "outputs": [
    {
     "data": {
      "text/plain": [
       "0.8393127469567092"
      ]
     },
     "execution_count": 10,
     "metadata": {},
     "output_type": "execute_result"
    }
   ],
   "source": [
    "1-cv_results['train-error-mean'].min()"
   ]
  },
  {
   "cell_type": "code",
   "execution_count": 11,
   "id": "a817b135",
   "metadata": {},
   "outputs": [
    {
     "name": "stdout",
     "output_type": "stream",
     "text": [
      "Best parameters: {'gamma': 2, 'colsample_bytree': 0.8999999999999999, 'colsample_bynode': 0.4, 'min_child_weight': 0, 'lambda': 2.0}, Best accuracy: 0.8048086709096642\n"
     ]
    }
   ],
   "source": [
    "gammas = range(0,10,2)\n",
    "colsample_bytrees = np.arange(0.3,1,0.3).tolist()\n",
    "colsample_bynodes = np.arange(0.1,1,0.3).tolist()\n",
    "min_child_weights = range(0,61,15)\n",
    "lambds = np.arange(0,3,0.5).tolist()\n",
    "best_params = {'gamma':0,\n",
    "               'colsample_bytree': 0,\n",
    "               'colsample_bynode': 0,\n",
    "               'min_child_weight': 0,\n",
    "               'lambda': 0}\n",
    "best_accuracy = 0\n",
    "\n",
    "\n",
    "for gamma in gammas:\n",
    "    for colsample_bytree in colsample_bytrees:\n",
    "        for colsample_bynode in colsample_bynodes:\n",
    "            for min_child_weight in min_child_weights:\n",
    "                for lambd in lambds:\n",
    "                    params = {\n",
    "                    'gamma':gamma,\n",
    "                    'colsample_bytree': colsample_bytree,\n",
    "                    'colsample_bynode': colsample_bynode,\n",
    "                    'min_child_weight': min_child_weight,\n",
    "                    'lambda': lambd,\n",
    "                    'eta':0.12000000000000001,\n",
    "                    'objective': 'binary:logistic',  \n",
    "                    'eval_metric': 'error'}\n",
    "                    \n",
    "                    cv_results = xgb.cv(\n",
    "                        params,\n",
    "                        dtrain,\n",
    "                        num_boost_round=13,\n",
    "                        nfold=5, \n",
    "                        metrics={'error'},\n",
    "                        seed = 42,\n",
    "                        early_stopping_rounds=10)\n",
    "\n",
    "                    mean_accuracy = 1 - cv_results['test-error-mean'].min()\n",
    "                    if mean_accuracy > best_accuracy:\n",
    "                        best_accuracy = mean_accuracy\n",
    "                        best_params['gamma'] = gamma\n",
    "                        best_params['colsample_bytree'] = colsample_bytree\n",
    "                        best_params['colsample_bynode'] = colsample_bynode\n",
    "                        best_params['min_child_weight'] = min_child_weight\n",
    "                        best_params['lambda'] = lambd\n",
    "\n",
    "print(f\"Best parameters: {best_params}, Best accuracy: {best_accuracy}\")"
   ]
  },
  {
   "cell_type": "code",
   "execution_count": 12,
   "id": "33c27cf9",
   "metadata": {},
   "outputs": [
    {
     "name": "stdout",
     "output_type": "stream",
     "text": [
      "Best parameters: {'gamma': 1, 'colsample_bytree': 0.9800000000000002, 'colsample_bynode': 0.4000000000000001, 'min_child_weight': 4, 'lambda': 2.400000000000001}, Best accuracy: 0.8068907499784983\n"
     ]
    }
   ],
   "source": [
    "gammas = range(1,4)\n",
    "colsample_bytrees = np.arange(0.8,1,0.02).tolist()\n",
    "colsample_bynodes = np.arange(0.3,0.5,0.02).tolist()\n",
    "min_child_weights = range(0,20,4)\n",
    "lambds = np.arange(1.5,2.5,0.1).tolist()\n",
    "best_params = {'gamma':0,\n",
    "               'colsample_bytree': 0,\n",
    "               'colsample_bynode': 0,\n",
    "               'min_child_weight': 0,\n",
    "               'lambda': 0}\n",
    "best_accuracy = 0\n",
    "\n",
    "\n",
    "for gamma in gammas:\n",
    "    for colsample_bytree in colsample_bytrees:\n",
    "        for colsample_bynode in colsample_bynodes:\n",
    "            for min_child_weight in min_child_weights:\n",
    "                for lambd in lambds:\n",
    "                    params = {\n",
    "                    'gamma':gamma,\n",
    "                    'colsample_bytree': colsample_bytree,\n",
    "                    'colsample_bynode': colsample_bynode,\n",
    "                    'min_child_weight': min_child_weight,\n",
    "                    'lambda': lambd,\n",
    "                    'eta':0.12000000000000001,\n",
    "                    'objective': 'binary:logistic',  \n",
    "                    'eval_metric': 'error'}\n",
    "                    \n",
    "                    cv_results = xgb.cv(\n",
    "                        params,\n",
    "                        dtrain,\n",
    "                        num_boost_round=13,\n",
    "                        nfold=5, \n",
    "                        metrics={'error'},\n",
    "                        seed = 42,\n",
    "                        early_stopping_rounds=10)\n",
    "\n",
    "                    mean_accuracy = 1 - cv_results['test-error-mean'].min()\n",
    "                    if mean_accuracy > best_accuracy:\n",
    "                        best_accuracy = mean_accuracy\n",
    "                        best_params['gamma'] = gamma\n",
    "                        best_params['colsample_bytree'] = colsample_bytree\n",
    "                        best_params['colsample_bynode'] = colsample_bynode\n",
    "                        best_params['min_child_weight'] = min_child_weight\n",
    "                        best_params['lambda'] = lambd\n",
    "\n",
    "print(f\"Best parameters: {best_params}, Best accuracy: {best_accuracy}\")"
   ]
  },
  {
   "cell_type": "code",
   "execution_count": 13,
   "id": "d80a891d",
   "metadata": {},
   "outputs": [
    {
     "name": "stdout",
     "output_type": "stream",
     "text": [
      "Best parameters: {'gamma': 1, 'colsample_bytree': 0.97, 'colsample_bynode': 0.4, 'min_child_weight': 4, 'lambda': 2.38}, Best accuracy: 0.8068907499784983\n"
     ]
    }
   ],
   "source": [
    "gammas = range(1,2)\n",
    "colsample_bytrees = np.arange(0.97,0.99,0.002).tolist()\n",
    "colsample_bynodes = np.arange(0.39,0.41,0.002).tolist()\n",
    "min_child_weights = range(1,9)\n",
    "lambds = np.arange(2.3,2.51,0.02).tolist()\n",
    "best_params = {'gamma':0,\n",
    "               'colsample_bytree': 0,\n",
    "               'colsample_bynode': 0,\n",
    "               'min_child_weight': 0,\n",
    "               'lambda': 0}\n",
    "best_accuracy = 0\n",
    "\n",
    "\n",
    "for gamma in gammas:\n",
    "    for colsample_bytree in colsample_bytrees:\n",
    "        for colsample_bynode in colsample_bynodes:\n",
    "            for min_child_weight in min_child_weights:\n",
    "                for lambd in lambds:\n",
    "                    params = {\n",
    "                    'gamma':gamma,\n",
    "                    'colsample_bytree': colsample_bytree,\n",
    "                    'colsample_bynode': colsample_bynode,\n",
    "                    'min_child_weight': min_child_weight,\n",
    "                    'lambda': lambd,\n",
    "                    'eta':0.12000000000000001,\n",
    "                    'objective': 'binary:logistic',  \n",
    "                    'eval_metric': 'error'}\n",
    "                    \n",
    "                    cv_results = xgb.cv(\n",
    "                        params,\n",
    "                        dtrain,\n",
    "                        num_boost_round=13,\n",
    "                        nfold=5, \n",
    "                        metrics={'error'},\n",
    "                        seed = 42,\n",
    "                        early_stopping_rounds=10)\n",
    "\n",
    "                    mean_accuracy = 1 - cv_results['test-error-mean'].min()\n",
    "                    if mean_accuracy > best_accuracy:\n",
    "                        best_accuracy = mean_accuracy\n",
    "                        best_params['gamma'] = gamma\n",
    "                        best_params['colsample_bytree'] = colsample_bytree\n",
    "                        best_params['colsample_bynode'] = colsample_bynode\n",
    "                        best_params['min_child_weight'] = min_child_weight\n",
    "                        best_params['lambda'] = lambd\n",
    "\n",
    "print(f\"Best parameters: {best_params}, Best accuracy: {best_accuracy}\")"
   ]
  },
  {
   "cell_type": "code",
   "execution_count": 15,
   "id": "6325f661",
   "metadata": {},
   "outputs": [
    {
     "name": "stdout",
     "output_type": "stream",
     "text": [
      "Best parameters: {'gamma': 1, 'colsample_bytree': 0.962, 'colsample_bynode': 0.4, 'min_child_weight': 4, 'lambda': 2.3739999999999997}, Best accuracy: 0.8072695378572863\n"
     ]
    }
   ],
   "source": [
    "gammas = range(1,2)\n",
    "colsample_bytrees = np.arange(0.961,0.98,0.001).tolist()\n",
    "colsample_bynodes = np.arange(0.399,0.409,0.001).tolist()\n",
    "min_child_weights = range(3,6)\n",
    "lambds = np.arange(2.37,2.389,0.001).tolist()\n",
    "best_params = {'gamma':0,\n",
    "               'colsample_bytree': 0,\n",
    "               'colsample_bynode': 0,\n",
    "               'min_child_weight': 0,\n",
    "               'lambda': 0}\n",
    "best_accuracy = 0\n",
    "\n",
    "\n",
    "for gamma in gammas:\n",
    "    for colsample_bytree in colsample_bytrees:\n",
    "        for colsample_bynode in colsample_bynodes:\n",
    "            for min_child_weight in min_child_weights:\n",
    "                for lambd in lambds:\n",
    "                    params = {\n",
    "                    'gamma':gamma,\n",
    "                    'colsample_bytree': colsample_bytree,\n",
    "                    'colsample_bynode': colsample_bynode,\n",
    "                    'min_child_weight': min_child_weight,\n",
    "                    'lambda': lambd,\n",
    "                    'eta':0.12000000000000001,\n",
    "                    'objective': 'binary:logistic',  \n",
    "                    'eval_metric': 'error'}\n",
    "                    \n",
    "                    cv_results = xgb.cv(\n",
    "                        params,\n",
    "                        dtrain,\n",
    "                        num_boost_round=13,\n",
    "                        nfold=5, \n",
    "                        metrics={'error'},\n",
    "                        seed = 42,\n",
    "                        early_stopping_rounds=10)\n",
    "\n",
    "                    mean_accuracy = 1 - cv_results['test-error-mean'].min()\n",
    "                    if mean_accuracy > best_accuracy:\n",
    "                        best_accuracy = mean_accuracy\n",
    "                        best_params['gamma'] = gamma\n",
    "                        best_params['colsample_bytree'] = colsample_bytree\n",
    "                        best_params['colsample_bynode'] = colsample_bynode\n",
    "                        best_params['min_child_weight'] = min_child_weight\n",
    "                        best_params['lambda'] = lambd\n",
    "\n",
    "print(f\"Best parameters: {best_params}, Best accuracy: {best_accuracy}\")"
   ]
  },
  {
   "cell_type": "code",
   "execution_count": 19,
   "id": "884169ff",
   "metadata": {},
   "outputs": [
    {
     "name": "stdout",
     "output_type": "stream",
     "text": [
      "Best parameters: {'max_depth': 6, 'subsample': 1.0}, Best accuracy: 0.8072695378572863\n"
     ]
    }
   ],
   "source": [
    "max_depths = range(2,30,2)\n",
    "subsamples = np.arange(0.1,1.1,0.1)\n",
    "best_params = {'max_depth':0,\n",
    "               'subsample': 0}\n",
    "best_accuracy = 0\n",
    "\n",
    "\n",
    "for max_depth in max_depths:\n",
    "    for subsample in subsamples:\n",
    "        params = {\n",
    "        'gamma':1,\n",
    "        'colsample_bytree': 0.962,\n",
    "        'colsample_bynode': 0.4,\n",
    "        'min_child_weight': 4,\n",
    "        'lambda': 2.3739999999999997,\n",
    "        'eta':0.12000000000000001,\n",
    "        'max_depth':max_depth,\n",
    "        'subsample':subsample,\n",
    "        'objective': 'binary:logistic',  \n",
    "        'eval_metric': 'error'}\n",
    "                    \n",
    "        cv_results = xgb.cv(\n",
    "                        params,\n",
    "                        dtrain,\n",
    "                        num_boost_round=13,\n",
    "                        nfold=5, \n",
    "                        metrics={'error'},\n",
    "                        seed = 42,\n",
    "                        early_stopping_rounds=10)\n",
    "\n",
    "        mean_accuracy = 1 - cv_results['test-error-mean'].min()\n",
    "        if mean_accuracy > best_accuracy:\n",
    "            best_accuracy = mean_accuracy\n",
    "            best_params['max_depth'] = max_depth\n",
    "            best_params['subsample'] = subsample\n",
    "\n",
    "\n",
    "print(f\"Best parameters: {best_params}, Best accuracy: {best_accuracy}\")"
   ]
  },
  {
   "cell_type": "markdown",
   "id": "75ce5f3b",
   "metadata": {},
   "source": [
    "|Models|CV.best_score_|\n",
    "|:--:|:--:|\n",
    "|Logistic+grid|0.8045|\n",
    "|RF+grid|0.8092|\n",
    "|GBDT+grid|0.8137|\n",
    "|XGBoost+grid|0.8072|"
   ]
  }
 ],
 "metadata": {
  "kernelspec": {
   "display_name": "Python 3 (ipykernel)",
   "language": "python",
   "name": "python3"
  },
  "language_info": {
   "codemirror_mode": {
    "name": "ipython",
    "version": 3
   },
   "file_extension": ".py",
   "mimetype": "text/x-python",
   "name": "python",
   "nbconvert_exporter": "python",
   "pygments_lexer": "ipython3",
   "version": "3.11.3"
  }
 },
 "nbformat": 4,
 "nbformat_minor": 5
}
