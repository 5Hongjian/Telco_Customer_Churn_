{
 "cells": [
  {
   "cell_type": "code",
   "execution_count": 1,
   "id": "4675f6ed",
   "metadata": {},
   "outputs": [],
   "source": [
    "# 基础数据科学运算库\n",
    "import numpy as np\n",
    "import pandas as pd\n",
    "\n",
    "# 可视化库\n",
    "import seaborn as sns\n",
    "import matplotlib.pyplot as plt\n",
    "\n",
    "# 时间模块\n",
    "import time\n",
    "\n",
    "import warnings\n",
    "warnings.filterwarnings('ignore')\n",
    "\n",
    "# sklearn库\n",
    "# 数据预处理\n",
    "from sklearn import preprocessing\n",
    "from sklearn.compose import ColumnTransformer\n",
    "from sklearn.preprocessing import OrdinalEncoder\n",
    "from sklearn.preprocessing import OneHotEncoder\n",
    "\n",
    "# 实用函数\n",
    "from sklearn.metrics import accuracy_score, recall_score, precision_score, f1_score, roc_auc_score\n",
    "from sklearn.model_selection import train_test_split\n",
    "\n",
    "# 常用评估器\n",
    "from sklearn.pipeline import make_pipeline\n",
    "from sklearn.linear_model import LogisticRegression\n",
    "from sklearn import tree\n",
    "from sklearn.tree import DecisionTreeClassifier\n",
    "from sklearn.ensemble import RandomForestClassifier\n",
    "\n",
    "# 网格搜索\n",
    "from sklearn.model_selection import GridSearchCV\n",
    "\n",
    "# 自定义评估器支持模块\n",
    "from sklearn.base import BaseEstimator, TransformerMixin\n",
    "\n",
    "# 自定义模块\n",
    "from telcoFunc import *\n",
    "# 导入特征衍生模块\n",
    "import features_creation as fc\n",
    "from features_creation import *\n",
    "\n",
    "# re模块相关\n",
    "import inspect, re\n",
    "\n",
    "# 其他模块\n",
    "from tqdm import tqdm\n",
    "import gc"
   ]
  },
  {
   "cell_type": "code",
   "execution_count": 2,
   "id": "106cba8b",
   "metadata": {},
   "outputs": [],
   "source": [
    "# 读取数据\n",
    "tcc = pd.read_csv('WA_Fn-UseC_-Telco-Customer-Churn.csv')\n",
    "\n",
    "# 标注连续/离散字段\n",
    "# 离散字段\n",
    "category_cols = ['gender', 'SeniorCitizen', 'Partner', 'Dependents',\n",
    "                'PhoneService', 'MultipleLines', 'InternetService', 'OnlineSecurity', 'OnlineBackup', \n",
    "                'DeviceProtection', 'TechSupport', 'StreamingTV', 'StreamingMovies', 'Contract', 'PaperlessBilling',\n",
    "                'PaymentMethod']\n",
    "\n",
    "# 连续字段\n",
    "numeric_cols = ['tenure', 'MonthlyCharges', 'TotalCharges']\n",
    " \n",
    "# 标签\n",
    "target = 'Churn'\n",
    "\n",
    "# ID列\n",
    "ID_col = 'customerID'\n",
    "\n",
    "# 验证是否划分能完全\n",
    "assert len(category_cols) + len(numeric_cols) + 2 == tcc.shape[1]\n",
    "\n",
    "# 连续字段转化\n",
    "tcc['TotalCharges']= tcc['TotalCharges'].apply(lambda x: x if x!= ' ' else np.nan).astype(float)\n",
    "tcc['MonthlyCharges'] = tcc['MonthlyCharges'].astype(float)\n",
    "\n",
    "# 缺失值填补\n",
    "tcc['TotalCharges'] = tcc['TotalCharges'].fillna(0)\n",
    "\n",
    "# 标签值手动转化 \n",
    "tcc['Churn'].replace(to_replace='Yes', value=1, inplace=True)\n",
    "tcc['Churn'].replace(to_replace='No',  value=0, inplace=True)"
   ]
  },
  {
   "cell_type": "code",
   "execution_count": 31,
   "id": "8ef3e071",
   "metadata": {},
   "outputs": [],
   "source": [
    "train = pd.read_csv('train_new.csv')\n",
    "test = pd.read_csv('test_new.csv')"
   ]
  },
  {
   "cell_type": "code",
   "execution_count": 32,
   "id": "dc1406ff",
   "metadata": {},
   "outputs": [
    {
     "data": {
      "text/plain": [
       "(5282, 259)"
      ]
     },
     "execution_count": 32,
     "metadata": {},
     "output_type": "execute_result"
    }
   ],
   "source": [
    "train.shape"
   ]
  },
  {
   "cell_type": "code",
   "execution_count": 33,
   "id": "f5795822",
   "metadata": {},
   "outputs": [],
   "source": [
    "X_train = train.iloc[:,:-1]\n",
    "X_test = test.iloc[:,:-1]\n",
    "y_train = train.iloc[:,-1]\n",
    "y_test = test.iloc[:,-1]"
   ]
  },
  {
   "cell_type": "code",
   "execution_count": null,
   "id": "ad6f8f52",
   "metadata": {},
   "outputs": [],
   "source": [
    "parameter_space = {\n",
    "    \"min_samples_leaf\": range(1, 10, 3), \n",
    "    \"min_samples_split\": range(1, 10, 3),\n",
    "    \"max_depth\": range(5, 16, 5),\n",
    "    \"n_estimators\": range(10, 160, 70), \n",
    "    \"max_features\":['sqrt', 'log2'] + list(range(8, 17, 2)), \n",
    "    \"max_samples\":[None, 0.4, 0.5, 0.6]}\n",
    "\n",
    "# 实例化模型与评估器\n",
    "RF_0 = RandomForestClassifier(random_state=12)\n",
    "grid_RF_0 = GridSearchCV(RF_0, parameter_space, n_jobs=-1)\n",
    "\n",
    "# 模型训练\n",
    "grid_RF_0.fit(X_train, y_train)"
   ]
  },
  {
   "cell_type": "code",
   "execution_count": 40,
   "id": "19d4a62b",
   "metadata": {},
   "outputs": [
    {
     "data": {
      "text/plain": [
       "0.8084053639517215"
      ]
     },
     "execution_count": 40,
     "metadata": {},
     "output_type": "execute_result"
    }
   ],
   "source": [
    "grid_RF_0.best_score_"
   ]
  },
  {
   "cell_type": "code",
   "execution_count": 41,
   "id": "15da8e5d",
   "metadata": {},
   "outputs": [
    {
     "data": {
      "text/plain": [
       "(0.8492995077622113, 0.7932992617830777)"
      ]
     },
     "execution_count": 41,
     "metadata": {},
     "output_type": "execute_result"
    }
   ],
   "source": [
    "grid_RF_0.score(X_train, y_train), grid_RF_0.score(X_test, y_test)"
   ]
  },
  {
   "cell_type": "code",
   "execution_count": 42,
   "id": "ab86b39d",
   "metadata": {
    "scrolled": true
   },
   "outputs": [
    {
     "data": {
      "text/plain": [
       "{'max_depth': 10,\n",
       " 'max_features': 'log2',\n",
       " 'max_samples': None,\n",
       " 'min_samples_leaf': 7,\n",
       " 'min_samples_split': 4,\n",
       " 'n_estimators': 150}"
      ]
     },
     "execution_count": 42,
     "metadata": {},
     "output_type": "execute_result"
    }
   ],
   "source": [
    "grid_RF_0.best_params_"
   ]
  },
  {
   "cell_type": "code",
   "execution_count": null,
   "id": "8b230364",
   "metadata": {},
   "outputs": [],
   "source": [
    "parameter_space = {\n",
    "    \"min_samples_leaf\": range(6, 9), \n",
    "    \"min_samples_split\": range(2, 7, 2),\n",
    "    \"max_depth\": range(9, 12),\n",
    "    \"n_estimators\": range(130, 170, 10), \n",
    "    \"max_features\":['sqrt', 'log2'] + list(range(7, 9)), \n",
    "    \"max_samples\":[None, 0.4, 0.5, 0.6]}\n",
    "\n",
    "# 实例化模型与评估器\n",
    "RF_0 = RandomForestClassifier(random_state=12)\n",
    "grid_RF_0 = GridSearchCV(RF_0, parameter_space, n_jobs=-1)\n",
    "\n",
    "# 模型训练\n",
    "grid_RF_0.fit(X_train, y_train)"
   ]
  },
  {
   "cell_type": "code",
   "execution_count": 44,
   "id": "e6811a11",
   "metadata": {},
   "outputs": [
    {
     "data": {
      "text/plain": [
       "0.8093516169261201"
      ]
     },
     "execution_count": 44,
     "metadata": {},
     "output_type": "execute_result"
    }
   ],
   "source": [
    "grid_RF_0.best_score_"
   ]
  },
  {
   "cell_type": "code",
   "execution_count": 45,
   "id": "a24eb893",
   "metadata": {},
   "outputs": [
    {
     "data": {
      "text/plain": [
       "(0.8536539189700871, 0.7910278250993753)"
      ]
     },
     "execution_count": 45,
     "metadata": {},
     "output_type": "execute_result"
    }
   ],
   "source": [
    "grid_RF_0.score(X_train, y_train), grid_RF_0.score(X_test, y_test)"
   ]
  },
  {
   "cell_type": "code",
   "execution_count": 46,
   "id": "6cd20dea",
   "metadata": {},
   "outputs": [
    {
     "data": {
      "text/plain": [
       "{'max_depth': 11,\n",
       " 'max_features': 'log2',\n",
       " 'max_samples': None,\n",
       " 'min_samples_leaf': 7,\n",
       " 'min_samples_split': 2,\n",
       " 'n_estimators': 150}"
      ]
     },
     "execution_count": 46,
     "metadata": {},
     "output_type": "execute_result"
    }
   ],
   "source": [
    "grid_RF_0.best_params_"
   ]
  },
  {
   "cell_type": "code",
   "execution_count": null,
   "id": "34826a84",
   "metadata": {},
   "outputs": [],
   "source": [
    "parameter_space = {\n",
    "    \"min_samples_leaf\": range(6, 9), \n",
    "    \"min_samples_split\": range(2, 4),\n",
    "    \"max_depth\": range(8, 12),\n",
    "    \"n_estimators\": range(147, 153), \n",
    "    \"max_features\":['log2'] + list(range(7, 9)), \n",
    "    \"max_samples\":[None]}\n",
    "\n",
    "# 实例化模型与评估器\n",
    "RF_0 = RandomForestClassifier(random_state=12)\n",
    "grid_RF_0 = GridSearchCV(RF_0, parameter_space, n_jobs=-1)\n",
    "\n",
    "# 模型训练\n",
    "grid_RF_0.fit(X_train, y_train)"
   ]
  },
  {
   "cell_type": "code",
   "execution_count": 60,
   "id": "cfe9338d",
   "metadata": {},
   "outputs": [
    {
     "data": {
      "text/plain": [
       "0.8093516169261201"
      ]
     },
     "execution_count": 60,
     "metadata": {},
     "output_type": "execute_result"
    }
   ],
   "source": [
    "grid_RF_0.best_score_"
   ]
  },
  {
   "cell_type": "code",
   "execution_count": 61,
   "id": "d7a2a959",
   "metadata": {},
   "outputs": [
    {
     "data": {
      "text/plain": [
       "(0.8536539189700871, 0.7910278250993753)"
      ]
     },
     "execution_count": 61,
     "metadata": {},
     "output_type": "execute_result"
    }
   ],
   "source": [
    "grid_RF_0.score(X_train, y_train), grid_RF_0.score(X_test, y_test)"
   ]
  },
  {
   "cell_type": "code",
   "execution_count": 62,
   "id": "b31dc63d",
   "metadata": {},
   "outputs": [
    {
     "data": {
      "text/plain": [
       "{'max_depth': 11,\n",
       " 'max_features': 'log2',\n",
       " 'max_samples': None,\n",
       " 'min_samples_leaf': 7,\n",
       " 'min_samples_split': 2,\n",
       " 'n_estimators': 150}"
      ]
     },
     "execution_count": 62,
     "metadata": {},
     "output_type": "execute_result"
    }
   ],
   "source": [
    "grid_RF_0.best_params_"
   ]
  },
  {
   "cell_type": "markdown",
   "id": "6472c537",
   "metadata": {},
   "source": [
    "|Models|CV.best_score_|train_score|test_score|\n",
    "|:--:|:--:|:--:|:--:|\n",
    "|Logistic+grid|0.8045|0.8075|0.7956|\n",
    "|RF+grid_R1|0.8084|0.8493|0.7933|\n",
    "|RF+grid_R2|0.8094|0.8537|0.7910|\n",
    "|RF+grid_R3|0.8094|0.8537|0.7910|"
   ]
  },
  {
   "cell_type": "code",
   "execution_count": null,
   "id": "bcabf403",
   "metadata": {},
   "outputs": [],
   "source": []
  }
 ],
 "metadata": {
  "kernelspec": {
   "display_name": "Python 3 (ipykernel)",
   "language": "python",
   "name": "python3"
  },
  "language_info": {
   "codemirror_mode": {
    "name": "ipython",
    "version": 3
   },
   "file_extension": ".py",
   "mimetype": "text/x-python",
   "name": "python",
   "nbconvert_exporter": "python",
   "pygments_lexer": "ipython3",
   "version": "3.11.3"
  }
 },
 "nbformat": 4,
 "nbformat_minor": 5
}
